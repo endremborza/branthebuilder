{
 "cells": [
  {
   "cell_type": "markdown",
   "metadata": {},
   "source": [
    "# Installation\n",
    "\n",
    "```pip install branthebuilder```"
   ]
  },
  {
   "cell_type": "markdown",
   "metadata": {},
   "source": [
    "# Available tasks\n",
    "\n",
    "- clean.clean\n",
    "- clean.prune\n",
    "- django.clean\n",
    "- django.nb\n",
    "- django.setup-dev\n",
    "- docs.build\n",
    "- docs.purge\n",
    "- docs.setup\n",
    "- misc.lint\n",
    "- misc.notebook\n",
    "- misc.update-boilerplate\n",
    "- release.new\n",
    "- release.tag\n",
    "- sonar.kill\n",
    "- sonar.scan\n",
    "- sonar.setup\n",
    "- test.test"
   ]
  }
 ],
 "metadata": {
  "kernelspec": {
   "display_name": "Python 3",
   "language": "python",
   "name": "python3"
  },
  "language_info": {
   "codemirror_mode": {
    "name": "ipython",
    "version": 3
   },
   "file_extension": ".py",
   "mimetype": "text/x-python",
   "name": "python",
   "nbconvert_exporter": "python",
   "pygments_lexer": "ipython3",
   "version": "3.8.5"
  }
 },
 "nbformat": 4,
 "nbformat_minor": 2
}
